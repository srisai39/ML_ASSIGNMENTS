{
 "cells": [
  {
   "cell_type": "markdown",
   "metadata": {},
   "source": [
    "QUESTION 1.1"
   ]
  },
  {
   "cell_type": "code",
   "execution_count": 11,
   "metadata": {},
   "outputs": [
    {
     "name": "stdout",
     "output_type": "stream",
     "text": [
      "enter side1:7\n",
      "enter side2:24\n",
      "enter side3:25\n",
      "area : \n",
      "84.0\n"
     ]
    }
   ],
   "source": [
    "class A:\n",
    "    def __init__(self):\n",
    "        self.a=int(input(\"enter side1:\"))\n",
    "        self.b=int(input(\"enter side2:\"))\n",
    "        self.c=int(input(\"enter side3:\"))\n",
    "class B(A):\n",
    "    def __init__(self):\n",
    "        A. __init__(self)\n",
    "        s=(self.a+self.b+self.c)/2\n",
    "        area=(s*(s-self.a)*(s-self.b)*(s-self.c))**0.5\n",
    "        print(\"area : \")\n",
    "        print(area)\n",
    "b=B()\n",
    "\n",
    "    "
   ]
  },
  {
   "cell_type": "markdown",
   "metadata": {},
   "source": [
    "QUESTION 1.2"
   ]
  },
  {
   "cell_type": "code",
   "execution_count": null,
   "metadata": {},
   "outputs": [],
   "source": [
    "def filter_long_words():\n",
    "    s=input(\"enter strings:\")\n",
    "    l=list(map(str,s.split()))\n",
    "    n=int(input(\"enter n :\"))\n",
    "    if(len(l)==n):\n",
    "        print(\"no extra strings\")\n",
    "    else:\n",
    "        for i in range(n,len(l)):\n",
    "            print(l[i])\n",
    "filter_long_words()           "
   ]
  },
  {
   "cell_type": "markdown",
   "metadata": {},
   "source": [
    "QUESTION 2.1\n"
   ]
  },
  {
   "cell_type": "code",
   "execution_count": 4,
   "metadata": {},
   "outputs": [
    {
     "name": "stdout",
     "output_type": "stream",
     "text": [
      "enter strings:abc edf to hsdjbv svdkjbvfskv ksb\n",
      "[3, 3, 2, 6, 11, 3]\n"
     ]
    }
   ],
   "source": [
    "def mappinglength():\n",
    "    s=input(\"enter strings:\")\n",
    "    l=list(map(str,s.split()))\n",
    "    res=[]\n",
    "    for i in l:\n",
    "        res.append(len(i))\n",
    "    print(res)\n",
    "mappinglength()"
   ]
  },
  {
   "cell_type": "markdown",
   "metadata": {},
   "source": [
    "QUESTION 2.2"
   ]
  },
  {
   "cell_type": "code",
   "execution_count": 6,
   "metadata": {},
   "outputs": [
    {
     "name": "stdout",
     "output_type": "stream",
     "text": [
      "enter a character: i\n",
      "True\n"
     ]
    }
   ],
   "source": [
    "def isVowel():\n",
    "    c=input(\"enter a character: \")\n",
    "    if(c in ['a','e','i','o','u']):\n",
    "        return True\n",
    "    else:\n",
    "        return False\n",
    "print(isVowel())"
   ]
  },
  {
   "cell_type": "code",
   "execution_count": null,
   "metadata": {},
   "outputs": [],
   "source": []
  }
 ],
 "metadata": {
  "kernelspec": {
   "display_name": "Python 3",
   "language": "python",
   "name": "python3"
  },
  "language_info": {
   "codemirror_mode": {
    "name": "ipython",
    "version": 3
   },
   "file_extension": ".py",
   "mimetype": "text/x-python",
   "name": "python",
   "nbconvert_exporter": "python",
   "pygments_lexer": "ipython3",
   "version": "3.7.6"
  }
 },
 "nbformat": 4,
 "nbformat_minor": 4
}
